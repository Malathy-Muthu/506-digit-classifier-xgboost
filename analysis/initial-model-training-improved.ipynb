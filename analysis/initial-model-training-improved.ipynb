{
 "cells": [
  {
   "cell_type": "markdown",
   "id": "e079f753-5294-4622-b4ae-0b9db6d12926",
   "metadata": {},
   "source": [
    "# Training a classifier for hand-written digits"
   ]
  },
  {
   "cell_type": "markdown",
   "id": "83ede984-fd5a-40be-af2c-49f2485e8d18",
   "metadata": {},
   "source": [
    "Data Source:\n",
    "* https://scikit-learn.org/stable/auto_examples/classification/plot_digits_classification.html"
   ]
  },
  {
   "cell_type": "markdown",
   "id": "0049bd72",
   "metadata": {},
   "source": [
    "Useful reading:\n",
    "* https://stackoverflow.com/questions/42471523/how-can-i-generate-a-proper-mnist-image\n",
    "* https://stackoverflow.com/questions/45539289/convert-image-from-28-28-4-to-2d-flat-array-and-write-to-csv\n",
    "* https://stackoverflow.com/questions/61552402/if-image-has-28-28-3-shape-how-do-i-convert-it-to-28-28-1\n",
    "* https://stackoverflow.com/questions/51205502/convert-a-black-and-white-image-to-array-of-numbers"
   ]
  },
  {
   "cell_type": "code",
   "execution_count": null,
   "id": "aab723e6",
   "metadata": {},
   "outputs": [],
   "source": [
    "# ! conda install xgboost -y"
   ]
  },
  {
   "cell_type": "code",
   "execution_count": 32,
   "id": "0470e27c",
   "metadata": {},
   "outputs": [],
   "source": [
    "from xgboost import XGBClassifier\n",
    "from sklearn.ensemble import RandomForestClassifier\n",
    "from sklearn.tree import DecisionTreeClassifier\n",
    "from sklearn.model_selection import train_test_split\n",
    "from sklearn.preprocessing import StandardScaler, Normalizer\n",
    "from sklearn import metrics\n",
    "import numpy as np\n",
    "import pandas as pd\n",
    "import pickle\n",
    "from sklearn.datasets import fetch_openml"
   ]
  },
  {
   "cell_type": "code",
   "execution_count": 33,
   "id": "6d86048f",
   "metadata": {},
   "outputs": [
    {
     "data": {
      "text/plain": [
       "dict_keys(['data', 'target', 'frame', 'categories', 'feature_names', 'target_names', 'DESCR', 'details', 'url'])"
      ]
     },
     "execution_count": 33,
     "metadata": {},
     "output_type": "execute_result"
    }
   ],
   "source": [
    "# import the mnist dataset\n",
    "mnist = fetch_openml('mnist_784', version=1)\n",
    "mnist.keys()"
   ]
  },
  {
   "cell_type": "code",
   "execution_count": 34,
   "id": "cb79c0e1",
   "metadata": {},
   "outputs": [
    {
     "name": "stdout",
     "output_type": "stream",
     "text": [
      "(70000, 784)\n",
      "(70000,)\n"
     ]
    }
   ],
   "source": [
    "# separate features and target\n",
    "X, y = mnist[\"data\"], mnist[\"target\"]\n",
    "print(X.shape)\n",
    "print(y.shape)"
   ]
  },
  {
   "cell_type": "code",
   "execution_count": 35,
   "id": "b5a063aa",
   "metadata": {},
   "outputs": [],
   "source": [
    "# train-test split\n",
    "X_train, X_test, y_train, y_test = train_test_split(X, y, \n",
    "                                       test_size=0.3, \n",
    "                                       random_state=42)"
   ]
  },
  {
   "cell_type": "markdown",
   "id": "6abb268b-2752-415b-bb1c-996cd15afa45",
   "metadata": {},
   "source": [
    "## Exploratory Analysis"
   ]
  },
  {
   "cell_type": "code",
   "execution_count": null,
   "id": "69c6c687-b510-4497-8cb3-08c3b9e2fc92",
   "metadata": {},
   "outputs": [],
   "source": [
    "# explore one digit\n",
    "some_digit=np.array( X.iloc[0])\n",
    "print(len(some_digit))\n",
    "some_digit[400:500]"
   ]
  },
  {
   "cell_type": "code",
   "execution_count": null,
   "id": "3cde5ddd-ad9a-414e-8fad-17692006ccac",
   "metadata": {},
   "outputs": [],
   "source": [
    "# explore one digit\n",
    "some_digit_image = some_digit.reshape(28, 28)\n",
    "print(len(some_digit_image))\n",
    "print(len(some_digit_image[0]))\n",
    "some_digit_df=pd.DataFrame(some_digit_image)"
   ]
  },
  {
   "cell_type": "code",
   "execution_count": null,
   "id": "6382d446-27df-4a74-999b-419fc7386b47",
   "metadata": {},
   "outputs": [],
   "source": [
    "# show the output\n",
    "pd.set_option('display.max_columns', None)\n",
    "some_digit_df"
   ]
  },
  {
   "cell_type": "code",
   "execution_count": null,
   "id": "92fdd20d-de05-463e-96ad-e7468408c96a",
   "metadata": {},
   "outputs": [],
   "source": [
    "# examine its label\n",
    "print(y[0])\n",
    "print(type(y[0]))\n",
    "y_int=y.astype(np.uint8)\n",
    "print(y_int[0])"
   ]
  },
  {
   "cell_type": "code",
   "execution_count": null,
   "id": "03d7b8af-bc3e-480e-af2c-c630437ea718",
   "metadata": {},
   "outputs": [],
   "source": [
    "# display the figure\n",
    "import matplotlib as mpl \n",
    "import matplotlib.pyplot as plt\n",
    "f = plt.figure()\n",
    "plt.imshow(some_digit_image, cmap = mpl.cm.binary, interpolation=\"nearest\") \n",
    "plt.axis(\"off\")\n",
    "#plt.savefig('model_outputs/foo_five.png')\n",
    "plt.show()"
   ]
  },
  {
   "cell_type": "markdown",
   "id": "defd780a-cb8f-4d53-b4f0-7211c0755cb5",
   "metadata": {},
   "source": [
    "## Preprocessing"
   ]
  },
  {
   "cell_type": "code",
   "execution_count": null,
   "id": "a6a2f1b4",
   "metadata": {},
   "outputs": [],
   "source": [
    "# standardize\n",
    "scaler = StandardScaler()\n",
    "X_train_scaled = scaler.fit_transform(X_train)\n",
    "X_test_scaled = scaler.transform(X_test)"
   ]
  },
  {
   "cell_type": "code",
   "execution_count": 12,
   "id": "933f5da2-1394-466c-a7a7-15b6690a9077",
   "metadata": {},
   "outputs": [],
   "source": [
    "from sklearn.preprocessing import MinMaxScaler\n",
    "scaler = MinMaxScaler() \n",
    "X_train_scaled = scaler.fit_transform(X_train)\n",
    "X_test_scaled = scaler.transform(X_test)"
   ]
  },
  {
   "cell_type": "code",
   "execution_count": 10,
   "id": "b8309e29-54fb-4176-a7c8-78d21288363e",
   "metadata": {},
   "outputs": [],
   "source": [
    "from sklearn.preprocessing import RobustScaler\n",
    "scaler = RobustScaler() \n",
    "X_train_scaled = scaler.fit_transform(X_train)\n",
    "X_test_scaled = scaler.transform(X_test)"
   ]
  },
  {
   "cell_type": "code",
   "execution_count": 36,
   "id": "f0654545-0058-4189-b481-9ad64f4aec8b",
   "metadata": {},
   "outputs": [],
   "source": [
    "X_train_scaled = X_train\n",
    "X_test_scaled = X_test"
   ]
  },
  {
   "cell_type": "code",
   "execution_count": null,
   "id": "14e1b8ec-b346-4285-94e6-bef0a77c6911",
   "metadata": {},
   "outputs": [],
   "source": [
    "# pickle the scaler\n",
    "\n",
    "f = open('scaler.pkl', 'wb')\n",
    "pickle.dump(scaler, f)\n",
    "f.close()  "
   ]
  },
  {
   "cell_type": "markdown",
   "id": "677794ad-b1ca-41c4-984b-ab4cbfdda240",
   "metadata": {},
   "source": [
    "## Single Decision Tree"
   ]
  },
  {
   "cell_type": "code",
   "execution_count": null,
   "id": "31d81415-459f-4026-af04-3d0e2f3503f9",
   "metadata": {},
   "outputs": [],
   "source": [
    "# instantiate with arbitrary hyperparameters\n",
    "tree_model = DecisionTreeClassifier(max_depth=7, \n",
    "                               criterion='entropy', \n",
    "                               min_samples_leaf=10,\n",
    "                               class_weight='balanced')"
   ]
  },
  {
   "cell_type": "code",
   "execution_count": null,
   "id": "79da6faa-127c-4c17-aec5-e606a1bdcf79",
   "metadata": {},
   "outputs": [],
   "source": [
    "# train the model\n",
    "tree_model.fit(X_train_scaled, y_train)"
   ]
  },
  {
   "cell_type": "code",
   "execution_count": null,
   "id": "0dc00d0a-2df9-41c6-a89f-1e3245e0f922",
   "metadata": {},
   "outputs": [],
   "source": [
    "# predict\n",
    "y_preds=tree_model.predict(X_test_scaled)\n",
    "print(list(y_preds[:10]))\n",
    "print(list(y_test[:10]))"
   ]
  },
  {
   "cell_type": "code",
   "execution_count": null,
   "id": "1000ae20-e5f4-474d-8695-602d7774dbbb",
   "metadata": {},
   "outputs": [],
   "source": [
    "# evaluate\n",
    "print('Accuracy:', metrics.accuracy_score(y_test, y_preds))\n",
    "print('Precision:', metrics.precision_score(y_test, y_preds,average='macro'))\n",
    "print('Recall:', metrics.recall_score(y_test, y_preds,average='macro'))\n",
    "print('F1 Score:', metrics.f1_score(y_test, y_preds,average='macro'))"
   ]
  },
  {
   "cell_type": "markdown",
   "id": "a09061db",
   "metadata": {},
   "source": [
    "## Random Forest"
   ]
  },
  {
   "cell_type": "code",
   "execution_count": null,
   "id": "319596ee",
   "metadata": {},
   "outputs": [],
   "source": [
    "# modeling: random forest (arbitrary hyperparameters)\n",
    "rf_model = RandomForestClassifier(max_depth=8, min_samples_leaf=10, n_estimators=100)\n"
   ]
  },
  {
   "cell_type": "code",
   "execution_count": null,
   "id": "21747075-88c1-40e5-b19c-c5ecdfbdb537",
   "metadata": {},
   "outputs": [],
   "source": [
    "# train the model (this is very time-consuming!!) uncomment next line\n",
    "# rf_model.fit(X_train_scaled, y_train)\n",
    "\n",
    "# as a workaround, we unpickle the trained model from the previous run\n",
    "filename = open('model_outputs/rf_model.pkl', 'rb')\n",
    "rf_model = pickle.load(filename)\n",
    "filename.close()"
   ]
  },
  {
   "cell_type": "code",
   "execution_count": null,
   "id": "ffb3a536",
   "metadata": {},
   "outputs": [],
   "source": [
    "# predict\n",
    "y_preds=rf_model.predict(X_test_scaled)\n",
    "print(list(y_preds[:10]))\n",
    "print(list(y_test[:10]))"
   ]
  },
  {
   "cell_type": "code",
   "execution_count": null,
   "id": "ee8609d2",
   "metadata": {},
   "outputs": [],
   "source": [
    "# evaluate\n",
    "print('Accuracy:', metrics.accuracy_score(y_test, y_preds))\n",
    "print('Precision:', metrics.precision_score(y_test, y_preds,average='macro'))\n",
    "print('Recall:', metrics.recall_score(y_test, y_preds,average='macro'))\n",
    "print('F1 Score:', metrics.f1_score(y_test, y_preds,average='macro'))"
   ]
  },
  {
   "cell_type": "markdown",
   "id": "78c9e295",
   "metadata": {},
   "source": [
    "## XG Boost"
   ]
  },
  {
   "cell_type": "markdown",
   "id": "2d91589d",
   "metadata": {},
   "source": [
    "There are in general two ways that you can control overfitting in XGBoost:\n",
    "\n",
    "- The first way is to directly control model complexity.\n",
    "\n",
    "    - This includes max_depth, min_child_weight and gamma.\n",
    "\n",
    "- The second way is to add randomness to make training robust to noise.\n",
    "\n",
    "    - This includes subsample and colsample_bytree.\n",
    "\n",
    "    - You can also reduce stepsize eta. Remember to increase num_round when you do so.\n",
    "\n",
    "[source](https://xgboost.readthedocs.io/en/stable/tutorials/param_tuning.html#:~:text=There%20are%20in,you%20do%20so.)"
   ]
  },
  {
   "cell_type": "code",
   "execution_count": 37,
   "id": "81c5c519",
   "metadata": {},
   "outputs": [],
   "source": [
    "# modeling: XGBoost (arbitrary hyperparameters)\n",
    "xgb_model = XGBClassifier(max_depth=6, \n",
    "                          min_child_weight=1, \n",
    "                          gamma=0, \n",
    "                          subsample=1, \n",
    "                          learning_rate=0.3)"
   ]
  },
  {
   "cell_type": "code",
   "execution_count": 38,
   "id": "246b88dc-36ae-40e5-b8c7-8620e049c907",
   "metadata": {},
   "outputs": [],
   "source": [
    "y_train=y_train.astype('int')\n"
   ]
  },
  {
   "cell_type": "code",
   "execution_count": 39,
   "id": "88dc772d-4a80-446d-b5af-ecb1c393903f",
   "metadata": {},
   "outputs": [],
   "source": [
    "y_test=y_test.astype('int')"
   ]
  },
  {
   "cell_type": "code",
   "execution_count": 40,
   "id": "b7b755eb-5e2a-4c6e-b575-9dd04acacdef",
   "metadata": {},
   "outputs": [
    {
     "data": {
      "text/plain": [
       "XGBClassifier(base_score=0.5, booster='gbtree', callbacks=None,\n",
       "              colsample_bylevel=1, colsample_bynode=1, colsample_bytree=1,\n",
       "              early_stopping_rounds=None, enable_categorical=False,\n",
       "              eval_metric=None, gamma=0, gpu_id=-1, grow_policy='depthwise',\n",
       "              importance_type=None, interaction_constraints='',\n",
       "              learning_rate=0.3, max_bin=256, max_cat_to_onehot=4,\n",
       "              max_delta_step=0, max_depth=6, max_leaves=0, min_child_weight=1,\n",
       "              missing=nan, monotone_constraints='()', n_estimators=100,\n",
       "              n_jobs=0, num_parallel_tree=1, objective='multi:softprob',\n",
       "              predictor='auto', random_state=0, reg_alpha=0, ...)"
      ]
     },
     "execution_count": 40,
     "metadata": {},
     "output_type": "execute_result"
    }
   ],
   "source": [
    "xgb_model.fit(X_train_scaled, y_train)"
   ]
  },
  {
   "cell_type": "code",
   "execution_count": 28,
   "id": "22be5705-5074-4836-b8c5-71d15ebe9034",
   "metadata": {},
   "outputs": [],
   "source": [
    "# train the model (this is very time-consuming!!) uncomment next line\n",
    "# xgb_model.fit(X_train_scaled, y_train)\n",
    "\n",
    "# as a workaround, we unpickle the trained model from the previous run\n",
    "#filename = open('model_outputs/xgb_model.pkl', 'rb')\n",
    "#xgb_model = pickle.load(filename)\n",
    "#filename.close()"
   ]
  },
  {
   "cell_type": "code",
   "execution_count": 41,
   "id": "49b6f8f8",
   "metadata": {},
   "outputs": [
    {
     "name": "stdout",
     "output_type": "stream",
     "text": [
      "[8, 4, 8, 7, 7, 0, 6, 2, 7, 4]\n",
      "[8, 4, 8, 7, 7, 0, 6, 2, 7, 4]\n"
     ]
    }
   ],
   "source": [
    "# predict\n",
    "y_preds=xgb_model.predict(X_test_scaled)\n",
    "print(list(y_preds[:10]))\n",
    "print(list(y_test[:10]))"
   ]
  },
  {
   "cell_type": "code",
   "execution_count": 42,
   "id": "7f4b380d-c903-43ff-b6bd-2506cba6b653",
   "metadata": {},
   "outputs": [
    {
     "name": "stdout",
     "output_type": "stream",
     "text": [
      "Accuracy: 0.9763333333333334\n",
      "Precision: 0.9763135823515506\n",
      "Recall: 0.9762052321723518\n",
      "F1 Score: 0.9762474693631734\n"
     ]
    }
   ],
   "source": [
    "# evaluate\n",
    "print('Accuracy:', metrics.accuracy_score(y_test, y_preds))\n",
    "print('Precision:', metrics.precision_score(y_test, y_preds,average='macro'))\n",
    "print('Recall:', metrics.recall_score(y_test, y_preds,average='macro'))\n",
    "print('F1 Score:', metrics.f1_score(y_test, y_preds,average='macro'))"
   ]
  },
  {
   "cell_type": "markdown",
   "id": "f6baeb4b-5b13-4987-9a8e-f58b37ae428f",
   "metadata": {},
   "source": [
    "#By using 30% test data and by min-max scalar/robust scalar (Interquantile range), Improved from 0.9759 to 0.9763\n",
    "Accuracy: 0.9763333333333334\n",
    "Precision: 0.9763135823515506\n",
    "Recall: 0.9762052321723518\n",
    "F1 Score: 0.9762474693631734"
   ]
  },
  {
   "cell_type": "markdown",
   "id": "f1a4200f-d714-4cae-967b-54032d7faf9a",
   "metadata": {},
   "source": [
    "## Evaluate on new data"
   ]
  },
  {
   "cell_type": "code",
   "execution_count": null,
   "id": "77910688-d94a-4a5c-b2cc-427f10e535d8",
   "metadata": {},
   "outputs": [],
   "source": [
    "## read in our pickle file\n",
    "filename = open('analysis/example-user-input.pkl', 'rb')\n",
    "array_to_data_output = pickle.load(filename)\n",
    "filename.close()"
   ]
  },
  {
   "cell_type": "code",
   "execution_count": null,
   "id": "9ff92a35-5fe9-4dd7-a8b6-aa80a971b1e7",
   "metadata": {},
   "outputs": [],
   "source": [
    "# what is the digit type\n",
    "print(type(array_to_data_output))\n",
    "print(array_to_data_output.shape)"
   ]
  },
  {
   "cell_type": "code",
   "execution_count": null,
   "id": "e20030a8-d951-4b13-a284-b1baa3a38004",
   "metadata": {},
   "outputs": [],
   "source": [
    "# show the digit\n",
    "pd.set_option('display.max_columns', None)\n",
    "array_to_data_output"
   ]
  },
  {
   "cell_type": "code",
   "execution_count": null,
   "id": "ab55bc3d-1b56-4c4a-9b1d-bdf570c722ae",
   "metadata": {},
   "outputs": [],
   "source": [
    "# convert the user input to the format expected by the model\n",
    "some_digit_array = np.reshape(array_to_data_output.values, -1)\n",
    "print(some_digit_array[:150])"
   ]
  },
  {
   "cell_type": "code",
   "execution_count": null,
   "id": "85b95a68-7ede-43ed-b051-0fbe384ef7f7",
   "metadata": {},
   "outputs": [],
   "source": [
    "# Standardize\n",
    "some_digit_scaled = scaler.transform([some_digit_array])\n",
    "print(some_digit_scaled[0][:50])"
   ]
  },
  {
   "cell_type": "code",
   "execution_count": null,
   "id": "36f2fb48-b1f0-4a8e-bb87-aba4789d4aa8",
   "metadata": {},
   "outputs": [],
   "source": [
    "# make a prediction: Random Forest\n",
    "rf_pred = rf_model.predict(some_digit_scaled)\n",
    "rf_prob_array = rf_model.predict_proba(some_digit_scaled)\n",
    "rf_prob = max(rf_prob_array[0])\n",
    "rf_prob=round(rf_prob*100,2)\n",
    "print( f'Digit: {rf_pred[0]}', f'Probability: {rf_prob}%')"
   ]
  },
  {
   "cell_type": "code",
   "execution_count": null,
   "id": "c86e1e9a-2120-4795-bd85-e3fcf048c3d4",
   "metadata": {},
   "outputs": [],
   "source": [
    "# make a prediction: XG Boost\n",
    "xgb_pred = tree_model.predict(some_digit_scaled)\n",
    "xgb_prob_array = tree_model.predict_proba(some_digit_scaled)\n",
    "xgb_prob = max(xgb_prob_array[0])\n",
    "xgb_prob=round(xgb_prob*100,2)\n",
    "print(f'Digit: {xgb_pred[0]}', f'Probability: {xgb_prob}%')"
   ]
  },
  {
   "cell_type": "markdown",
   "id": "696228ae-edf2-4151-bb3f-6be0d8785118",
   "metadata": {},
   "source": [
    "## Pickle the trained models"
   ]
  },
  {
   "cell_type": "code",
   "execution_count": null,
   "id": "b16c581a-01f6-4926-9f74-66e7e88eef8e",
   "metadata": {},
   "outputs": [],
   "source": [
    "# random forest\n",
    "f = open('model_outputs/rf_model.pkl', 'wb')\n",
    "pickle.dump(rf_model, f)\n",
    "f.close()  "
   ]
  },
  {
   "cell_type": "code",
   "execution_count": null,
   "id": "9033ac4b-e8d6-4558-b723-5364f2cb4657",
   "metadata": {},
   "outputs": [],
   "source": [
    "# XG Boost\n",
    "f = open('model_outputs/xgb_model.pkl', 'wb')\n",
    "pickle.dump(xgb_model, f)\n",
    "f.close()  "
   ]
  }
 ],
 "metadata": {
  "kernelspec": {
   "display_name": "default:Python",
   "language": "python",
   "name": "conda-env-default-py"
  },
  "language_info": {
   "codemirror_mode": {
    "name": "ipython",
    "version": 3
   },
   "file_extension": ".py",
   "mimetype": "text/x-python",
   "name": "python",
   "nbconvert_exporter": "python",
   "pygments_lexer": "ipython3",
   "version": "3.9.10"
  },
  "widgets": {
   "application/vnd.jupyter.widget-state+json": {
    "state": {},
    "version_major": 2,
    "version_minor": 0
   }
  }
 },
 "nbformat": 4,
 "nbformat_minor": 5
}
